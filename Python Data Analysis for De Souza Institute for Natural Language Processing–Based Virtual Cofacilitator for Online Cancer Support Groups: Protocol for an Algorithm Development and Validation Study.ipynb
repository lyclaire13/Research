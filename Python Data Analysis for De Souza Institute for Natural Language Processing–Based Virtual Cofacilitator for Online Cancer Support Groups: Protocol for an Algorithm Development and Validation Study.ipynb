{
  "nbformat": 4,
  "nbformat_minor": 0,
  "metadata": {
    "colab": {
      "name": "AICF(github).ipynb",
      "provenance": [],
      "collapsed_sections": [
        "dbU1iI6G8mgw",
        "91ZrgVPN8fZ0",
        "FURptmoUgCXO",
        "DmvwDeoaUEzK",
        "NJKDNsfjugic"
      ],
      "toc_visible": true,
      "include_colab_link": true
    },
    "kernelspec": {
      "name": "python3",
      "display_name": "Python 3"
    },
    "language_info": {
      "name": "python"
    }
  },
  "cells": [
    {
      "cell_type": "markdown",
      "metadata": {
        "id": "view-in-github",
        "colab_type": "text"
      },
      "source": [
        "<a href=\"https://colab.research.google.com/github/lyclaire13/Research/blob/main/Python%20Data%20Analysis%20for%20De%20Souza%20Institute%20for%20Natural%20Language%20Processing%E2%80%93Based%20Virtual%20Cofacilitator%20for%20Online%20Cancer%20Support%20Groups%3A%20Protocol%20for%20an%20Algorithm%20Development%20and%20Validation%20Study.ipynb\" target=\"_parent\"><img src=\"https://colab.research.google.com/assets/colab-badge.svg\" alt=\"Open In Colab\"/></a>"
      ]
    },
    {
      "cell_type": "code",
      "execution_count": 83,
      "metadata": {
        "id": "Prs4_nolIKeU"
      },
      "outputs": [],
      "source": [
        "import pandas as pd\n",
        "import numpy as np\n",
        "import matplotlib as ppl\n",
        "import matplotlib.pyplot as plt\n",
        "from matplotlib import pyplot\n",
        "%matplotlib notebook\n",
        "%matplotlib inline\n",
        "import math"
      ]
    },
    {
      "cell_type": "code",
      "source": [
        "df = pd.read_csv(\"Post.csv\")\n",
        "df2 = pd.read_csv(\"Pre.csv\")"
      ],
      "metadata": {
        "id": "gJjRCGMVJmFx"
      },
      "execution_count": 4,
      "outputs": []
    },
    {
      "cell_type": "code",
      "source": [
        "master = df.merge(df2, on='enrollment_id', how='outer')"
      ],
      "metadata": {
        "id": "Y4wIZAFUP0OA"
      },
      "execution_count": 6,
      "outputs": []
    },
    {
      "cell_type": "markdown",
      "source": [
        "# Calculating Survey Scores"
      ],
      "metadata": {
        "id": "1Wmsu9NbfdzY"
      }
    },
    {
      "cell_type": "markdown",
      "source": [
        "## **TFI (post only)**"
      ],
      "metadata": {
        "id": "dbU1iI6G8mgw"
      }
    },
    {
      "cell_type": "markdown",
      "source": [
        "Calculating parameters of TFI"
      ],
      "metadata": {
        "id": "MgALyoyt8WYz"
      }
    },
    {
      "cell_type": "code",
      "source": [
        "#select the score columns\n",
        "tfi = df[[\"enrollment_id\", \"TFI01\", \"TFI02\", \"TFI03\", \"TFI04\", \"TFI05\", \"TFI06\", \"TFI07\",\n",
        "                                \"TFI08\", \"TFI09\",'TFI10', 'TFI11', 'TFI12', 'TFI13'\n",
        "                                , 'TFI14', 'TFI15', 'TFI16', 'TFI17',\n",
        "                                'TFI18', 'TFI19']]"
      ],
      "metadata": {
        "id": "TU4o1ZMRAoKG"
      },
      "execution_count": 7,
      "outputs": []
    },
    {
      "cell_type": "code",
      "source": [
        "#get rid of no answers\n",
        "tfi = tfi.loc[~(tfi[[\"TFI01\", \"TFI02\", \"TFI03\", \"TFI04\", \"TFI05\", \"TFI06\", \"TFI07\",\n",
        "                                \"TFI08\", \"TFI09\",'TFI10', 'TFI11', 'TFI12', 'TFI13'\n",
        "                                , 'TFI14', 'TFI15', 'TFI16', 'TFI17',\n",
        "                                'TFI18', 'TFI19']]=='no answer').all(axis=1)]"
      ],
      "metadata": {
        "id": "7BAewP3BZZJC"
      },
      "execution_count": 8,
      "outputs": []
    },
    {
      "cell_type": "code",
      "source": [
        "tfi[[\"TFI01\", \"TFI02\", \"TFI03\", \"TFI04\", \"TFI05\", \"TFI06\", \"TFI07\",\n",
        "                                \"TFI08\", \"TFI09\",'TFI10', 'TFI11', 'TFI12', 'TFI13'\n",
        "                                , 'TFI14', 'TFI15', 'TFI16', 'TFI17',\n",
        "                                'TFI18', 'TFI19']] = tfi[[\"TFI01\", \"TFI02\", \"TFI03\", \"TFI04\", \"TFI05\", \"TFI06\", \"TFI07\",\n",
        "                                \"TFI08\", \"TFI09\",'TFI10', 'TFI11', 'TFI12', 'TFI13'\n",
        "                                , 'TFI14', 'TFI15', 'TFI16', 'TFI17',\n",
        "                                'TFI18', 'TFI19']].astype(\"int64\")"
      ],
      "metadata": {
        "id": "lEQ3k1LteHr8",
        "colab": {
          "base_uri": "https://localhost:8080/"
        },
        "outputId": "7c6ad45f-68cf-4cdb-b47a-c6c6d9ad3726"
      },
      "execution_count": 9,
      "outputs": [
        {
          "output_type": "stream",
          "name": "stderr",
          "text": [
            "/usr/local/lib/python3.7/dist-packages/pandas/core/frame.py:3641: SettingWithCopyWarning: \n",
            "A value is trying to be set on a copy of a slice from a DataFrame.\n",
            "Try using .loc[row_indexer,col_indexer] = value instead\n",
            "\n",
            "See the caveats in the documentation: https://pandas.pydata.org/pandas-docs/stable/user_guide/indexing.html#returning-a-view-versus-a-copy\n",
            "  self[k1] = value[k2]\n"
          ]
        }
      ]
    },
    {
      "cell_type": "code",
      "source": [
        "#Instillation of Hope = (Item01 * .016) + (Item02 * .119) + (Item03 * .009) + (Item04 * .005) + (Item07 * .000) + (Item08 * .008) + (Item09 * .031) + (Item10 * .274) + (Item11 * .008) + (Item13 * .014) + (Item15 * .004) + (Item16 * .021) + (Item17 * .206) + (Item18 * .013) + (Item19 * .037) + (Item20 * .135) + (Item21 * .004) + (Item22 * .029) + (Item23 * .003) \n",
        "\n",
        "weight_of_hope = np.array([0, 0.016, 0.119, 0.009, 0.005, 0.000, 0.008, 0.031, 0.274, 0.008, 0.014, 0.004, 0.021, 0.206, 0.013, 0.037, 0.135, 0.004, 0.029, 0.003])\n",
        "hope_score = tfi * weight_of_hope"
      ],
      "metadata": {
        "id": "gfg1gAcpbYdZ"
      },
      "execution_count": 10,
      "outputs": []
    },
    {
      "cell_type": "code",
      "source": [
        "sum_hope_score = hope_score.sum(axis=1)"
      ],
      "metadata": {
        "id": "tzJIR6rbfsF5"
      },
      "execution_count": 11,
      "outputs": []
    },
    {
      "cell_type": "code",
      "source": [
        "#Secure Emotional Expression = (Item01 * .011) + (Item02 * .006) + (Item03 * .094) + (Item04 * .006) + (Item07 * .019) + (Item08 * .000) + (Item09 * .021) + (Item10 * .014) + (Item11 * .086) + (Item13 * .009) + (Item15 * .040) + (Item16 * .016) + (Item17 * .010) + (Item18 * .138) + (Item19 * .029) + (Item20 * .007) + (Item21 * .045) + (Item22 * .022) + (Item23 * .029)\n",
        "\n",
        "weight_of_emotion = np.array([0, 0.011, 0.006, 0.094, 0.006, 0.019, 0.000, 0.021, 0.014, 0.086, 0.009, 0.040, 0.016, 0.010, 0.138, 0.029, 0.007, 0.045, 0.022, 0.029])\n",
        "emotion_score = tfi * weight_of_emotion"
      ],
      "metadata": {
        "id": "-cxvxcsxsrFe"
      },
      "execution_count": 12,
      "outputs": []
    },
    {
      "cell_type": "code",
      "source": [
        "sum_emotion_score = emotion_score.sum(axis=1)"
      ],
      "metadata": {
        "id": "aTI5QOyVyW_o"
      },
      "execution_count": 13,
      "outputs": []
    },
    {
      "cell_type": "code",
      "source": [
        "#Awareness of Relational Impact = (Item01 * .028) + (Item02 * .026) + (Item03 * .030) + (Item04 * .016) + (Item07 * .001) + (Item08 * .023) + (Item09 * .055) + (Item10 * .059) + (Item11 * .028) + (Item13 * .025) + (Item15 * .013) + (Item16 * .062) + (Item17 * .044) + (Item18 * .044) + (Item19 * .108) + (Item20 * .029) + (Item21 * .014) + (Item22 * .083) + (Item23 * .009)\n",
        "\n",
        "weight_of_awareness = np.array([0, 0.028, 0.026, 0.030, 0.016, 0.001, 0.023, 0.055, 0.059, 0.028, 0.025, 0.013, 0.062, 0.044, 0.044, 0.108, 0.029, 0.014, 0.083, 0.009])\n",
        "awareness_score = tfi * weight_of_awareness"
      ],
      "metadata": {
        "id": "iArbAU-9ymjH"
      },
      "execution_count": 14,
      "outputs": []
    },
    {
      "cell_type": "code",
      "source": [
        "sum_awareness_score = awareness_score.sum(axis=1)"
      ],
      "metadata": {
        "id": "L9Dq42LR0SGG"
      },
      "execution_count": 15,
      "outputs": []
    },
    {
      "cell_type": "code",
      "source": [
        "#Social Learning = (Item01 * .070) + (Item02 * .026) + (Item03 * .027) + (Item04 * .010) + (Item07 * .002) + (Item08 * .014) + (Item09 * .137) + (Item10 * .059) + (Item11 * .025) + (Item13 * .062) + (Item15 * .011) + (Item16 * .039) + (Item17 * .044) + (Item18 * .039) + (Item19 * .068) + (Item20 * .029) + (Item21 * .013) + (Item22 * .052) + (Item23 * .008)\n",
        "\n",
        "weight_of_social = np.array([0, 0.070, 0.026, 0.027, 0.010, 0.002, 0.014, 0.137, 0.059, 0.025, 0.062, 0.011, 0.039, 0.044, 0.039, 0.068, 0.029, 0.013, 0.052, 0.008])\n",
        "social_score = tfi * weight_of_social"
      ],
      "metadata": {
        "id": "HPhMuoNy0csR"
      },
      "execution_count": 16,
      "outputs": []
    },
    {
      "cell_type": "code",
      "source": [
        "sum_social_score = social_score.sum(axis=1)"
      ],
      "metadata": {
        "id": "8Igzgc4f0syv"
      },
      "execution_count": 17,
      "outputs": []
    },
    {
      "cell_type": "code",
      "source": [
        "tfi[\"hope_score\"] = pd.DataFrame(sum_hope_score)\n",
        "tfi[\"emotion_score\"] = pd.DataFrame(sum_emotion_score)\n",
        "tfi[\"awareness_score\"] = pd.DataFrame(sum_awareness_score)\n",
        "tfi[\"social_score\"] = pd.DataFrame(sum_social_score)"
      ],
      "metadata": {
        "id": "XgBJJOUp1nCD"
      },
      "execution_count": 18,
      "outputs": []
    },
    {
      "cell_type": "markdown",
      "source": [
        "Descriptive statistics of TFI"
      ],
      "metadata": {
        "id": "cYo4q5b3VEwQ"
      }
    },
    {
      "cell_type": "code",
      "source": [
        "tfi[[\"hope_score\", \"emotion_score\", \"awareness_score\", \"social_score\"]].describe()"
      ],
      "metadata": {
        "id": "TocI5nwRibtB",
        "colab": {
          "base_uri": "https://localhost:8080/",
          "height": 364
        },
        "outputId": "98b9e5b9-5f1b-40be-bff8-e7700e4ba57d"
      },
      "execution_count": 19,
      "outputs": [
        {
          "output_type": "execute_result",
          "data": {
            "text/html": [
              "\n",
              "  <div id=\"df-ca9eeaee-2fe3-4429-b15f-e571fb5fad3d\">\n",
              "    <div class=\"colab-df-container\">\n",
              "      <div>\n",
              "<style scoped>\n",
              "    .dataframe tbody tr th:only-of-type {\n",
              "        vertical-align: middle;\n",
              "    }\n",
              "\n",
              "    .dataframe tbody tr th {\n",
              "        vertical-align: top;\n",
              "    }\n",
              "\n",
              "    .dataframe thead th {\n",
              "        text-align: right;\n",
              "    }\n",
              "</style>\n",
              "<table border=\"1\" class=\"dataframe\">\n",
              "  <thead>\n",
              "    <tr style=\"text-align: right;\">\n",
              "      <th></th>\n",
              "      <th>hope_score</th>\n",
              "      <th>emotion_score</th>\n",
              "      <th>awareness_score</th>\n",
              "      <th>social_score</th>\n",
              "    </tr>\n",
              "  </thead>\n",
              "  <tbody>\n",
              "    <tr>\n",
              "      <th>count</th>\n",
              "      <td>46.000000</td>\n",
              "      <td>46.000000</td>\n",
              "      <td>46.000000</td>\n",
              "      <td>46.000000</td>\n",
              "    </tr>\n",
              "    <tr>\n",
              "      <th>mean</th>\n",
              "      <td>4.859000</td>\n",
              "      <td>3.368304</td>\n",
              "      <td>3.645043</td>\n",
              "      <td>3.810217</td>\n",
              "    </tr>\n",
              "    <tr>\n",
              "      <th>std</th>\n",
              "      <td>0.998857</td>\n",
              "      <td>0.457639</td>\n",
              "      <td>0.611198</td>\n",
              "      <td>0.637753</td>\n",
              "    </tr>\n",
              "    <tr>\n",
              "      <th>min</th>\n",
              "      <td>2.024000</td>\n",
              "      <td>2.035000</td>\n",
              "      <td>2.174000</td>\n",
              "      <td>2.270000</td>\n",
              "    </tr>\n",
              "    <tr>\n",
              "      <th>25%</th>\n",
              "      <td>4.547750</td>\n",
              "      <td>3.127000</td>\n",
              "      <td>3.320500</td>\n",
              "      <td>3.429000</td>\n",
              "    </tr>\n",
              "    <tr>\n",
              "      <th>50%</th>\n",
              "      <td>5.062000</td>\n",
              "      <td>3.431000</td>\n",
              "      <td>3.727500</td>\n",
              "      <td>3.792500</td>\n",
              "    </tr>\n",
              "    <tr>\n",
              "      <th>75%</th>\n",
              "      <td>5.410000</td>\n",
              "      <td>3.612250</td>\n",
              "      <td>4.108750</td>\n",
              "      <td>4.255500</td>\n",
              "    </tr>\n",
              "    <tr>\n",
              "      <th>max</th>\n",
              "      <td>6.547000</td>\n",
              "      <td>4.208000</td>\n",
              "      <td>4.863000</td>\n",
              "      <td>5.135000</td>\n",
              "    </tr>\n",
              "  </tbody>\n",
              "</table>\n",
              "</div>\n",
              "      <button class=\"colab-df-convert\" onclick=\"convertToInteractive('df-ca9eeaee-2fe3-4429-b15f-e571fb5fad3d')\"\n",
              "              title=\"Convert this dataframe to an interactive table.\"\n",
              "              style=\"display:none;\">\n",
              "        \n",
              "  <svg xmlns=\"http://www.w3.org/2000/svg\" height=\"24px\"viewBox=\"0 0 24 24\"\n",
              "       width=\"24px\">\n",
              "    <path d=\"M0 0h24v24H0V0z\" fill=\"none\"/>\n",
              "    <path d=\"M18.56 5.44l.94 2.06.94-2.06 2.06-.94-2.06-.94-.94-2.06-.94 2.06-2.06.94zm-11 1L8.5 8.5l.94-2.06 2.06-.94-2.06-.94L8.5 2.5l-.94 2.06-2.06.94zm10 10l.94 2.06.94-2.06 2.06-.94-2.06-.94-.94-2.06-.94 2.06-2.06.94z\"/><path d=\"M17.41 7.96l-1.37-1.37c-.4-.4-.92-.59-1.43-.59-.52 0-1.04.2-1.43.59L10.3 9.45l-7.72 7.72c-.78.78-.78 2.05 0 2.83L4 21.41c.39.39.9.59 1.41.59.51 0 1.02-.2 1.41-.59l7.78-7.78 2.81-2.81c.8-.78.8-2.07 0-2.86zM5.41 20L4 18.59l7.72-7.72 1.47 1.35L5.41 20z\"/>\n",
              "  </svg>\n",
              "      </button>\n",
              "      \n",
              "  <style>\n",
              "    .colab-df-container {\n",
              "      display:flex;\n",
              "      flex-wrap:wrap;\n",
              "      gap: 12px;\n",
              "    }\n",
              "\n",
              "    .colab-df-convert {\n",
              "      background-color: #E8F0FE;\n",
              "      border: none;\n",
              "      border-radius: 50%;\n",
              "      cursor: pointer;\n",
              "      display: none;\n",
              "      fill: #1967D2;\n",
              "      height: 32px;\n",
              "      padding: 0 0 0 0;\n",
              "      width: 32px;\n",
              "    }\n",
              "\n",
              "    .colab-df-convert:hover {\n",
              "      background-color: #E2EBFA;\n",
              "      box-shadow: 0px 1px 2px rgba(60, 64, 67, 0.3), 0px 1px 3px 1px rgba(60, 64, 67, 0.15);\n",
              "      fill: #174EA6;\n",
              "    }\n",
              "\n",
              "    [theme=dark] .colab-df-convert {\n",
              "      background-color: #3B4455;\n",
              "      fill: #D2E3FC;\n",
              "    }\n",
              "\n",
              "    [theme=dark] .colab-df-convert:hover {\n",
              "      background-color: #434B5C;\n",
              "      box-shadow: 0px 1px 3px 1px rgba(0, 0, 0, 0.15);\n",
              "      filter: drop-shadow(0px 1px 2px rgba(0, 0, 0, 0.3));\n",
              "      fill: #FFFFFF;\n",
              "    }\n",
              "  </style>\n",
              "\n",
              "      <script>\n",
              "        const buttonEl =\n",
              "          document.querySelector('#df-ca9eeaee-2fe3-4429-b15f-e571fb5fad3d button.colab-df-convert');\n",
              "        buttonEl.style.display =\n",
              "          google.colab.kernel.accessAllowed ? 'block' : 'none';\n",
              "\n",
              "        async function convertToInteractive(key) {\n",
              "          const element = document.querySelector('#df-ca9eeaee-2fe3-4429-b15f-e571fb5fad3d');\n",
              "          const dataTable =\n",
              "            await google.colab.kernel.invokeFunction('convertToInteractive',\n",
              "                                                     [key], {});\n",
              "          if (!dataTable) return;\n",
              "\n",
              "          const docLinkHtml = 'Like what you see? Visit the ' +\n",
              "            '<a target=\"_blank\" href=https://colab.research.google.com/notebooks/data_table.ipynb>data table notebook</a>'\n",
              "            + ' to learn more about interactive tables.';\n",
              "          element.innerHTML = '';\n",
              "          dataTable['output_type'] = 'display_data';\n",
              "          await google.colab.output.renderOutput(dataTable, element);\n",
              "          const docLink = document.createElement('div');\n",
              "          docLink.innerHTML = docLinkHtml;\n",
              "          element.appendChild(docLink);\n",
              "        }\n",
              "      </script>\n",
              "    </div>\n",
              "  </div>\n",
              "  "
            ],
            "text/plain": [
              "       hope_score  emotion_score  awareness_score  social_score\n",
              "count   46.000000      46.000000        46.000000     46.000000\n",
              "mean     4.859000       3.368304         3.645043      3.810217\n",
              "std      0.998857       0.457639         0.611198      0.637753\n",
              "min      2.024000       2.035000         2.174000      2.270000\n",
              "25%      4.547750       3.127000         3.320500      3.429000\n",
              "50%      5.062000       3.431000         3.727500      3.792500\n",
              "75%      5.410000       3.612250         4.108750      4.255500\n",
              "max      6.547000       4.208000         4.863000      5.135000"
            ]
          },
          "metadata": {},
          "execution_count": 19
        }
      ]
    },
    {
      "cell_type": "markdown",
      "source": [
        "## **IES Score (Pre & Post)**"
      ],
      "metadata": {
        "id": "91ZrgVPN8fZ0"
      }
    },
    {
      "cell_type": "markdown",
      "source": [
        "Calculating Pre IES Scores"
      ],
      "metadata": {
        "id": "1xeuHtDl81JQ"
      }
    },
    {
      "cell_type": "code",
      "source": [
        "pre_ies = df2[[\"enrollment_id\", \"IES_a\", \"IES_b\",\"IES_c\",\"IES_d\",\"IES_e\",\"IES_f\",\"IES_g\",\"IES_h\",\"IES_i\",\"IES_j\",\"IES_k\",\"IES_l\",\"IES_m\",\"IES_n\",\"IES_o\",\"IES_p\",\"IES_q\",\n",
        "               \"IES_r\",\"IES_s\",\"IES_t\",\"IES_u\",\"IES_v\"]]"
      ],
      "metadata": {
        "id": "WohjpfgS8axb"
      },
      "execution_count": 20,
      "outputs": []
    },
    {
      "cell_type": "code",
      "source": [
        "pre_ies = pre_ies.loc[~(pre_ies[[\"IES_a\", \"IES_b\",\"IES_c\",\"IES_d\",\"IES_e\",\"IES_f\",\"IES_g\",\"IES_h\",\"IES_i\",\"IES_j\",\"IES_k\",\"IES_l\",\"IES_m\",\"IES_n\",\"IES_o\",\"IES_p\",\"IES_q\",\n",
        "               \"IES_r\",\"IES_s\",\"IES_t\",\"IES_u\",\"IES_v\"]]=='no answer').all(axis=1)]"
      ],
      "metadata": {
        "id": "Dg6o3HFR9BcW"
      },
      "execution_count": 21,
      "outputs": []
    },
    {
      "cell_type": "code",
      "source": [
        "pre_ies[[\"IES_a\", \"IES_b\",\"IES_c\",\"IES_d\",\"IES_e\",\"IES_f\",\"IES_g\",\"IES_h\",\"IES_i\",\"IES_j\",\"IES_k\",\"IES_l\",\"IES_m\",\"IES_n\",\"IES_o\",\"IES_p\",\"IES_q\",\n",
        "               \"IES_r\",\"IES_s\",\"IES_t\",\"IES_u\",\"IES_v\"]] = pre_ies[[\"IES_a\", \"IES_b\",\"IES_c\",\"IES_d\",\"IES_e\",\"IES_f\",\"IES_g\",\"IES_h\",\"IES_i\",\"IES_j\",\"IES_k\",\"IES_l\",\"IES_m\",\"IES_n\",\"IES_o\",\"IES_p\",\"IES_q\",\n",
        "               \"IES_r\",\"IES_s\",\"IES_t\",\"IES_u\",\"IES_v\"]].astype(\"int64\")"
      ],
      "metadata": {
        "id": "4P65mhtn9Skl"
      },
      "execution_count": 22,
      "outputs": []
    },
    {
      "cell_type": "code",
      "source": [
        "sum_pre_score = pre_ies[[\"IES_a\", \"IES_b\",\"IES_c\",\"IES_d\",\"IES_e\",\"IES_f\",\"IES_g\",\"IES_h\",\"IES_i\",\"IES_j\",\"IES_k\",\"IES_l\",\"IES_m\",\"IES_n\",\"IES_o\",\"IES_p\",\"IES_q\",\n",
        "               \"IES_r\",\"IES_s\",\"IES_t\",\"IES_u\",\"IES_v\"]].sum(axis=1)"
      ],
      "metadata": {
        "id": "Q0Tq1c9BPWXI"
      },
      "execution_count": 23,
      "outputs": []
    },
    {
      "cell_type": "code",
      "source": [
        "pre_ies_intrusion = pre_ies[[\"IES_a\", \"IES_b\", \"IES_c\", \"IES_f\", \"IES_i\", \n",
        "                               \"IES_n\", \"IES_p\", \"IES_v\" ]].mean(axis=1)"
      ],
      "metadata": {
        "id": "aaJQuzg89T9E"
      },
      "execution_count": 24,
      "outputs": []
    },
    {
      "cell_type": "code",
      "source": [
        "pre_ies_avoidance = pre_ies[[\"IES_e\", \"IES_g\", \"IES_h\", \"IES_k\", \"IES_l\", \"IES_m\", \"IES_q\", \"IES_v\"]].mean(axis=1)"
      ],
      "metadata": {
        "id": "Rne_uX5Y9a-Q"
      },
      "execution_count": 25,
      "outputs": []
    },
    {
      "cell_type": "code",
      "source": [
        "pre_ies_hyperarousal = pre_ies[[\"IES_d\", \"IES_j\", \"IES_o\", \"IES_r\", \"IES_s\", \"IES_u\"]].mean(axis=1)"
      ],
      "metadata": {
        "id": "au40OEg4-NTu"
      },
      "execution_count": 26,
      "outputs": []
    },
    {
      "cell_type": "code",
      "source": [
        "pre_ies[\"pre-intrusion\"] = pd.DataFrame(pre_ies_intrusion)\n",
        "pre_ies[\"pre_avoidance\"] = pd.DataFrame(pre_ies_avoidance)\n",
        "pre_ies[\"pre_hyperarousal\"] = pd.DataFrame(pre_ies_hyperarousal)\n",
        "pre_ies[\"pre_ies-r\"] = pd.DataFrame(sum_pre_score)"
      ],
      "metadata": {
        "id": "voHT5aV4-TYz"
      },
      "execution_count": 27,
      "outputs": []
    },
    {
      "cell_type": "markdown",
      "source": [
        "Add three categories columns according to scoring intepretation\n",
        "\n",
        "Group 0 - \n",
        "Below 24\n",
        "\n",
        "Group 1 - \n",
        "24-32: PTSD is a clinical concern. Those with scores this high who do not have full PTSD will have partial PTSD or at least some of the symptoms (Asukai & Kato 2002).\n",
        "\n",
        "Group 2 - \n",
        "33-38: This represents the best cutoff for a probable diagnosis of PTSD (Creamer et al. 2002)\n",
        "\n",
        "Group 3 - \n",
        "39 and above:\n",
        "This is high enough to suppress your immune system’s functioning (even 10 years after an impact event) (Kawamura et al. 2001)"
      ],
      "metadata": {
        "id": "qwpJbFdwYODC"
      }
    },
    {
      "cell_type": "code",
      "source": [
        "ies_group1 = pre_ies[\"pre_ies-r\"].tolist()\n",
        "ies_group1\n",
        "\n",
        "ptsd_score_range_group = []\n",
        "\n",
        "for i in ies_group1 :\n",
        "\n",
        "  if (i >= 39) :\n",
        "    ptsd_score_range_group.append(\"Severe PTSD\")\n",
        "  elif (38 >= i >= 33) :\n",
        "    ptsd_score_range_group.append(\"PTSD\")\n",
        "  elif (32 >= i >= 24) :\n",
        "    ptsd_score_range_group.append(\"Sub-PTSD\")\n",
        "  else :\n",
        "    ptsd_score_range_group.append(\"Normal\")\n",
        "\n",
        "print(ptsd_score_range_group)\n",
        "\n",
        "pre_ies[\"pre_ies_group\"] = ptsd_score_range_group"
      ],
      "metadata": {
        "id": "pRO11IyrVp1R",
        "colab": {
          "base_uri": "https://localhost:8080/"
        },
        "outputId": "a35b26eb-2f98-461d-e629-dfd5ef80bb5d"
      },
      "execution_count": 28,
      "outputs": [
        {
          "output_type": "stream",
          "name": "stdout",
          "text": [
            "['Severe PTSD', 'Sub-PTSD', 'Severe PTSD', 'Sub-PTSD', 'Sub-PTSD', 'Normal', 'Normal', 'Normal', 'PTSD', 'Sub-PTSD', 'Severe PTSD', 'Sub-PTSD', 'Sub-PTSD', 'Severe PTSD', 'Severe PTSD', 'Severe PTSD', 'Severe PTSD', 'Severe PTSD', 'Severe PTSD', 'Sub-PTSD', 'Sub-PTSD', 'Sub-PTSD', 'Severe PTSD', 'Normal', 'Severe PTSD', 'PTSD', 'Sub-PTSD', 'Sub-PTSD', 'Normal', 'Severe PTSD', 'Severe PTSD', 'Sub-PTSD', 'Sub-PTSD', 'Normal', 'Sub-PTSD', 'Sub-PTSD', 'Severe PTSD', 'Normal', 'Sub-PTSD', 'Sub-PTSD', 'Normal', 'Normal', 'Severe PTSD', 'PTSD', 'Normal', 'Sub-PTSD', 'PTSD', 'Normal', 'PTSD', 'Normal', 'Normal', 'PTSD', 'Sub-PTSD', 'Sub-PTSD', 'Sub-PTSD', 'Normal', 'Normal', 'Sub-PTSD', 'Severe PTSD', 'Sub-PTSD', 'Severe PTSD', 'Normal', 'Sub-PTSD', 'Normal', 'Sub-PTSD', 'Sub-PTSD', 'Severe PTSD', 'Sub-PTSD', 'Sub-PTSD', 'Normal', 'Normal', 'Severe PTSD', 'PTSD', 'Normal', 'Severe PTSD', 'Sub-PTSD', 'Severe PTSD', 'Sub-PTSD', 'Sub-PTSD', 'Normal', 'Severe PTSD', 'Severe PTSD', 'Severe PTSD', 'Sub-PTSD', 'PTSD', 'Sub-PTSD', 'Sub-PTSD', 'Normal', 'Severe PTSD', 'Severe PTSD', 'Normal', 'Severe PTSD', 'Normal', 'Normal', 'Severe PTSD', 'Severe PTSD', 'PTSD', 'Severe PTSD', 'Sub-PTSD', 'PTSD', 'Normal', 'Normal', 'Severe PTSD', 'Severe PTSD', 'Sub-PTSD', 'Sub-PTSD', 'Normal', 'Normal', 'PTSD', 'Normal', 'Normal', 'Normal', 'Normal', 'Normal', 'Normal', 'Severe PTSD', 'Severe PTSD', 'Severe PTSD', 'Severe PTSD', 'Severe PTSD', 'Normal', 'Sub-PTSD', 'Normal', 'Sub-PTSD', 'Normal', 'Severe PTSD', 'Normal', 'Normal', 'Normal', 'Sub-PTSD', 'Normal', 'PTSD']\n"
          ]
        }
      ]
    },
    {
      "cell_type": "markdown",
      "source": [
        "Calculating Post IES Scores"
      ],
      "metadata": {
        "id": "nh90DZRr8w2V"
      }
    },
    {
      "cell_type": "code",
      "source": [
        "post_ies = df[[\"enrollment_id\", \"IES_a\", \"IES_b\",\"IES_c\",\"IES_d\",\"IES_e\",\"IES_f\",\"IES_g\",\"IES_h\",\"IES_i\",\"IES_j\",\"IES_k\",\"IES_l\",\"IES_m\",\"IES_n\",\"IES_o\",\"IES_p\",\"IES_q\",\n",
        "               \"IES_r\",\"IES_s\",\"IES_t\",\"IES_u\",\"IES_v\"]]"
      ],
      "metadata": {
        "id": "Y69ul5a32Y_l"
      },
      "execution_count": 29,
      "outputs": []
    },
    {
      "cell_type": "code",
      "source": [
        "post_ies = post_ies.loc[~(post_ies[[\"IES_a\", \"IES_b\",\"IES_c\",\"IES_d\",\"IES_e\",\"IES_f\",\"IES_g\",\"IES_h\",\"IES_i\",\"IES_j\",\"IES_k\",\"IES_l\",\"IES_m\",\"IES_n\",\"IES_o\",\"IES_p\",\"IES_q\",\n",
        "               \"IES_r\",\"IES_s\",\"IES_t\",\"IES_u\",\"IES_v\"]]=='no answer').all(axis=1)]"
      ],
      "metadata": {
        "id": "uffL8eGV5XvC"
      },
      "execution_count": 30,
      "outputs": []
    },
    {
      "cell_type": "code",
      "source": [
        "post_ies[[\"IES_a\", \"IES_b\",\"IES_c\",\"IES_d\",\"IES_e\",\"IES_f\",\"IES_g\",\"IES_h\",\"IES_i\",\"IES_j\",\"IES_k\",\"IES_l\",\"IES_m\",\"IES_n\",\"IES_o\",\"IES_p\",\"IES_q\",\n",
        "               \"IES_r\",\"IES_s\",\"IES_t\",\"IES_u\",\"IES_v\"]] = post_ies[[\"IES_a\", \"IES_b\",\"IES_c\",\"IES_d\",\"IES_e\",\"IES_f\",\"IES_g\",\"IES_h\",\"IES_i\",\"IES_j\",\"IES_k\",\"IES_l\",\"IES_m\",\"IES_n\",\"IES_o\",\"IES_p\",\"IES_q\",\n",
        "               \"IES_r\",\"IES_s\",\"IES_t\",\"IES_u\",\"IES_v\"]].astype(\"int64\")"
      ],
      "metadata": {
        "id": "zb5Nr-Ol5tDy"
      },
      "execution_count": 31,
      "outputs": []
    },
    {
      "cell_type": "code",
      "source": [
        "sum_post_score = post_ies[[\"IES_a\", \"IES_b\",\"IES_c\",\"IES_d\",\"IES_e\",\"IES_f\",\"IES_g\",\"IES_h\",\"IES_i\",\"IES_j\",\"IES_k\",\"IES_l\",\"IES_m\",\"IES_n\",\"IES_o\",\"IES_p\",\"IES_q\",\n",
        "               \"IES_r\",\"IES_s\",\"IES_t\",\"IES_u\",\"IES_v\"]].sum(axis=1)"
      ],
      "metadata": {
        "id": "JR3CrwZ1OvO9"
      },
      "execution_count": 32,
      "outputs": []
    },
    {
      "cell_type": "code",
      "source": [
        "#The Intrusion subscale is the MEAN item response of items 1, 2, 3, 6, 9, 14, 16, 20. Thus, scores can range from 0 through 4.\n",
        "post_ies_intrusion = post_ies[[\"IES_a\", \"IES_b\", \"IES_c\", \"IES_f\", \"IES_i\", \n",
        "                               \"IES_n\", \"IES_p\", \"IES_v\" ]].mean(axis=1)"
      ],
      "metadata": {
        "id": "S6g-yi2I513G"
      },
      "execution_count": 33,
      "outputs": []
    },
    {
      "cell_type": "code",
      "source": [
        "#The Avoidance subscale is the MEAN item response of items 5, 7, 8, 11, 12, 13, 17, 22. Thus, scores can range from 0 through 4.\n",
        "post_ies_avoidance = post_ies[[\"IES_e\", \"IES_g\", \"IES_h\", \"IES_k\", \"IES_l\", \"IES_m\", \"IES_q\", \"IES_v\"]].mean(axis=1)"
      ],
      "metadata": {
        "id": "Q5XrSAS76vqL"
      },
      "execution_count": 34,
      "outputs": []
    },
    {
      "cell_type": "code",
      "source": [
        "#The Hyperarousal subscale is the MEAN item response of items 4, 10, 15, 18, 19, 21. Thus, scores can range from 0 through 4.\n",
        "post_ies_hyperarousal = post_ies[[\"IES_d\", \"IES_j\", \"IES_o\", \"IES_r\", \"IES_s\", \"IES_u\"]].mean(axis=1)"
      ],
      "metadata": {
        "id": "BW3gVkaG60tH"
      },
      "execution_count": 35,
      "outputs": []
    },
    {
      "cell_type": "code",
      "source": [
        "post_ies[\"post_intrusion\"] = pd.DataFrame(post_ies_intrusion)\n",
        "post_ies[\"post_avoidance\"] = pd.DataFrame(post_ies_avoidance)\n",
        "post_ies[\"post_hyperarousal\"] = pd.DataFrame(post_ies_hyperarousal)\n",
        "post_ies[\"post_ies-r\"] = pd.DataFrame(sum_post_score)"
      ],
      "metadata": {
        "id": "FCY4rAYB9fO-"
      },
      "execution_count": 36,
      "outputs": []
    },
    {
      "cell_type": "markdown",
      "source": [
        "Add three categories columns according to scoring intepretation\n",
        "\n",
        "Normal - \n",
        "Below 24\n",
        "\n",
        "Sub-PTSD - \n",
        "24-32: PTSD is a clinical concern. Those with scores this high who do not have full PTSD will have partial PTSD or at least some of the symptoms (Asukai & Kato 2002).\n",
        "\n",
        "PTSD - \n",
        "33-38: This represents the best cutoff for a probable diagnosis of PTSD (Creamer et al. 2002)\n",
        "\n",
        "Severe PTSD - \n",
        "39 and above:\n",
        "This is high enough to suppress your immune system’s functioning (even 10 years after an impact event) (Kawamura et al. 2001)\n",
        "\n"
      ],
      "metadata": {
        "id": "SOuVzUvNV1G_"
      }
    },
    {
      "cell_type": "code",
      "source": [
        "ies_group2 = post_ies[\"post_ies-r\"].tolist()\n",
        "ies_group2\n",
        "\n",
        "ptsd_score_range_group = []\n",
        "\n",
        "for i in ies_group2 :\n",
        "\n",
        "  if (i >= 39) :\n",
        "    ptsd_score_range_group.append(\"Severe PTSD\")\n",
        "  elif (39 > i >= 33) :\n",
        "    ptsd_score_range_group.append(\"PTSD\")\n",
        "  elif (33 > i >= 24) :\n",
        "    ptsd_score_range_group.append(\"Sub-PTSD\")\n",
        "  else :\n",
        "    ptsd_score_range_group.append(\"Normal\")\n",
        "\n",
        "print(ptsd_score_range_group)\n",
        "\n",
        "post_ies[\"post_ies_group\"] = ptsd_score_range_group"
      ],
      "metadata": {
        "id": "KDq1X9wXNk07",
        "colab": {
          "base_uri": "https://localhost:8080/"
        },
        "outputId": "f71f1b7f-8187-438f-bb04-3fdf50636a05"
      },
      "execution_count": 37,
      "outputs": [
        {
          "output_type": "stream",
          "name": "stdout",
          "text": [
            "['Sub-PTSD', 'PTSD', 'Severe PTSD', 'PTSD', 'Severe PTSD', 'Sub-PTSD', 'Severe PTSD', 'Severe PTSD', 'Normal', 'Normal', 'Normal', 'Normal', 'Sub-PTSD', 'Severe PTSD', 'Severe PTSD', 'Sub-PTSD', 'Sub-PTSD', 'Normal', 'Severe PTSD', 'Normal', 'Severe PTSD', 'Normal', 'Normal', 'Sub-PTSD', 'Severe PTSD', 'Severe PTSD', 'Severe PTSD', 'Normal', 'Normal', 'Normal', 'Sub-PTSD', 'Sub-PTSD', 'Sub-PTSD', 'Normal', 'Normal', 'Severe PTSD', 'Severe PTSD', 'Normal', 'Normal', 'Normal', 'Sub-PTSD', 'Normal', 'Normal', 'Normal', 'Normal', 'Normal', 'Sub-PTSD', 'PTSD', 'Normal', 'Normal', 'Normal', 'Normal', 'Normal', 'Normal', 'Normal', 'Normal', 'Sub-PTSD', 'Severe PTSD', 'Sub-PTSD', 'Sub-PTSD', 'Normal', 'Normal', 'Normal', 'Normal', 'Normal', 'Normal', 'Severe PTSD', 'Normal', 'Normal', 'Normal', 'Severe PTSD', 'PTSD', 'Normal', 'Severe PTSD', 'Normal', 'Normal', 'Normal', 'Severe PTSD', 'Sub-PTSD', 'Normal', 'Normal', 'Severe PTSD']\n"
          ]
        }
      ]
    },
    {
      "cell_type": "markdown",
      "source": [
        "Descriptive Statistics for Pre and Post IES"
      ],
      "metadata": {
        "id": "wIK7xInaWQmy"
      }
    },
    {
      "cell_type": "code",
      "source": [
        "#remove mean from parameters columns, change column to ies sum, remove ptsd group.\n",
        "pre_ies[[\"pre-intrusion\", \"pre_avoidance\", \"pre_hyperarousal\", \"pre_ies-r\"]].describe()"
      ],
      "metadata": {
        "id": "lUIWC4iKWQKI",
        "colab": {
          "base_uri": "https://localhost:8080/",
          "height": 382
        },
        "outputId": "427547e2-fa15-4db3-81cd-2eedceebc6c2"
      },
      "execution_count": 38,
      "outputs": [
        {
          "output_type": "execute_result",
          "data": {
            "text/html": [
              "\n",
              "  <div id=\"df-7fb11dd5-3747-49d2-8da5-63fb211b96f9\">\n",
              "    <div class=\"colab-df-container\">\n",
              "      <div>\n",
              "<style scoped>\n",
              "    .dataframe tbody tr th:only-of-type {\n",
              "        vertical-align: middle;\n",
              "    }\n",
              "\n",
              "    .dataframe tbody tr th {\n",
              "        vertical-align: top;\n",
              "    }\n",
              "\n",
              "    .dataframe thead th {\n",
              "        text-align: right;\n",
              "    }\n",
              "</style>\n",
              "<table border=\"1\" class=\"dataframe\">\n",
              "  <thead>\n",
              "    <tr style=\"text-align: right;\">\n",
              "      <th></th>\n",
              "      <th>pre-intrusion</th>\n",
              "      <th>pre_avoidance</th>\n",
              "      <th>pre_hyperarousal</th>\n",
              "      <th>pre_ies-r</th>\n",
              "    </tr>\n",
              "  </thead>\n",
              "  <tbody>\n",
              "    <tr>\n",
              "      <th>count</th>\n",
              "      <td>132.000000</td>\n",
              "      <td>132.000000</td>\n",
              "      <td>132.000000</td>\n",
              "      <td>132.000000</td>\n",
              "    </tr>\n",
              "    <tr>\n",
              "      <th>mean</th>\n",
              "      <td>1.622159</td>\n",
              "      <td>1.315341</td>\n",
              "      <td>1.348485</td>\n",
              "      <td>31.136364</td>\n",
              "    </tr>\n",
              "    <tr>\n",
              "      <th>std</th>\n",
              "      <td>0.826486</td>\n",
              "      <td>0.748323</td>\n",
              "      <td>0.809311</td>\n",
              "      <td>15.890740</td>\n",
              "    </tr>\n",
              "    <tr>\n",
              "      <th>min</th>\n",
              "      <td>0.000000</td>\n",
              "      <td>0.000000</td>\n",
              "      <td>0.000000</td>\n",
              "      <td>0.000000</td>\n",
              "    </tr>\n",
              "    <tr>\n",
              "      <th>25%</th>\n",
              "      <td>1.093750</td>\n",
              "      <td>0.750000</td>\n",
              "      <td>0.833333</td>\n",
              "      <td>20.750000</td>\n",
              "    </tr>\n",
              "    <tr>\n",
              "      <th>50%</th>\n",
              "      <td>1.562500</td>\n",
              "      <td>1.250000</td>\n",
              "      <td>1.166667</td>\n",
              "      <td>29.000000</td>\n",
              "    </tr>\n",
              "    <tr>\n",
              "      <th>75%</th>\n",
              "      <td>2.125000</td>\n",
              "      <td>1.781250</td>\n",
              "      <td>1.708333</td>\n",
              "      <td>41.750000</td>\n",
              "    </tr>\n",
              "    <tr>\n",
              "      <th>max</th>\n",
              "      <td>3.750000</td>\n",
              "      <td>3.250000</td>\n",
              "      <td>3.833333</td>\n",
              "      <td>79.000000</td>\n",
              "    </tr>\n",
              "  </tbody>\n",
              "</table>\n",
              "</div>\n",
              "      <button class=\"colab-df-convert\" onclick=\"convertToInteractive('df-7fb11dd5-3747-49d2-8da5-63fb211b96f9')\"\n",
              "              title=\"Convert this dataframe to an interactive table.\"\n",
              "              style=\"display:none;\">\n",
              "        \n",
              "  <svg xmlns=\"http://www.w3.org/2000/svg\" height=\"24px\"viewBox=\"0 0 24 24\"\n",
              "       width=\"24px\">\n",
              "    <path d=\"M0 0h24v24H0V0z\" fill=\"none\"/>\n",
              "    <path d=\"M18.56 5.44l.94 2.06.94-2.06 2.06-.94-2.06-.94-.94-2.06-.94 2.06-2.06.94zm-11 1L8.5 8.5l.94-2.06 2.06-.94-2.06-.94L8.5 2.5l-.94 2.06-2.06.94zm10 10l.94 2.06.94-2.06 2.06-.94-2.06-.94-.94-2.06-.94 2.06-2.06.94z\"/><path d=\"M17.41 7.96l-1.37-1.37c-.4-.4-.92-.59-1.43-.59-.52 0-1.04.2-1.43.59L10.3 9.45l-7.72 7.72c-.78.78-.78 2.05 0 2.83L4 21.41c.39.39.9.59 1.41.59.51 0 1.02-.2 1.41-.59l7.78-7.78 2.81-2.81c.8-.78.8-2.07 0-2.86zM5.41 20L4 18.59l7.72-7.72 1.47 1.35L5.41 20z\"/>\n",
              "  </svg>\n",
              "      </button>\n",
              "      \n",
              "  <style>\n",
              "    .colab-df-container {\n",
              "      display:flex;\n",
              "      flex-wrap:wrap;\n",
              "      gap: 12px;\n",
              "    }\n",
              "\n",
              "    .colab-df-convert {\n",
              "      background-color: #E8F0FE;\n",
              "      border: none;\n",
              "      border-radius: 50%;\n",
              "      cursor: pointer;\n",
              "      display: none;\n",
              "      fill: #1967D2;\n",
              "      height: 32px;\n",
              "      padding: 0 0 0 0;\n",
              "      width: 32px;\n",
              "    }\n",
              "\n",
              "    .colab-df-convert:hover {\n",
              "      background-color: #E2EBFA;\n",
              "      box-shadow: 0px 1px 2px rgba(60, 64, 67, 0.3), 0px 1px 3px 1px rgba(60, 64, 67, 0.15);\n",
              "      fill: #174EA6;\n",
              "    }\n",
              "\n",
              "    [theme=dark] .colab-df-convert {\n",
              "      background-color: #3B4455;\n",
              "      fill: #D2E3FC;\n",
              "    }\n",
              "\n",
              "    [theme=dark] .colab-df-convert:hover {\n",
              "      background-color: #434B5C;\n",
              "      box-shadow: 0px 1px 3px 1px rgba(0, 0, 0, 0.15);\n",
              "      filter: drop-shadow(0px 1px 2px rgba(0, 0, 0, 0.3));\n",
              "      fill: #FFFFFF;\n",
              "    }\n",
              "  </style>\n",
              "\n",
              "      <script>\n",
              "        const buttonEl =\n",
              "          document.querySelector('#df-7fb11dd5-3747-49d2-8da5-63fb211b96f9 button.colab-df-convert');\n",
              "        buttonEl.style.display =\n",
              "          google.colab.kernel.accessAllowed ? 'block' : 'none';\n",
              "\n",
              "        async function convertToInteractive(key) {\n",
              "          const element = document.querySelector('#df-7fb11dd5-3747-49d2-8da5-63fb211b96f9');\n",
              "          const dataTable =\n",
              "            await google.colab.kernel.invokeFunction('convertToInteractive',\n",
              "                                                     [key], {});\n",
              "          if (!dataTable) return;\n",
              "\n",
              "          const docLinkHtml = 'Like what you see? Visit the ' +\n",
              "            '<a target=\"_blank\" href=https://colab.research.google.com/notebooks/data_table.ipynb>data table notebook</a>'\n",
              "            + ' to learn more about interactive tables.';\n",
              "          element.innerHTML = '';\n",
              "          dataTable['output_type'] = 'display_data';\n",
              "          await google.colab.output.renderOutput(dataTable, element);\n",
              "          const docLink = document.createElement('div');\n",
              "          docLink.innerHTML = docLinkHtml;\n",
              "          element.appendChild(docLink);\n",
              "        }\n",
              "      </script>\n",
              "    </div>\n",
              "  </div>\n",
              "  "
            ],
            "text/plain": [
              "       pre-intrusion  pre_avoidance  pre_hyperarousal   pre_ies-r\n",
              "count     132.000000     132.000000        132.000000  132.000000\n",
              "mean        1.622159       1.315341          1.348485   31.136364\n",
              "std         0.826486       0.748323          0.809311   15.890740\n",
              "min         0.000000       0.000000          0.000000    0.000000\n",
              "25%         1.093750       0.750000          0.833333   20.750000\n",
              "50%         1.562500       1.250000          1.166667   29.000000\n",
              "75%         2.125000       1.781250          1.708333   41.750000\n",
              "max         3.750000       3.250000          3.833333   79.000000"
            ]
          },
          "metadata": {},
          "execution_count": 38
        }
      ]
    },
    {
      "cell_type": "code",
      "source": [
        "post_ies[[\"post_intrusion\", \"post_avoidance\", \"post_hyperarousal\", \"post_ies-r\"]].describe()"
      ],
      "metadata": {
        "id": "nZdyt7C8Y4xk",
        "colab": {
          "base_uri": "https://localhost:8080/",
          "height": 364
        },
        "outputId": "b1c98e84-052b-452b-ee36-79e38b2dd0c6"
      },
      "execution_count": 39,
      "outputs": [
        {
          "output_type": "execute_result",
          "data": {
            "text/html": [
              "\n",
              "  <div id=\"df-0aee685d-28ee-4d0b-9f5d-a2f59aaa554b\">\n",
              "    <div class=\"colab-df-container\">\n",
              "      <div>\n",
              "<style scoped>\n",
              "    .dataframe tbody tr th:only-of-type {\n",
              "        vertical-align: middle;\n",
              "    }\n",
              "\n",
              "    .dataframe tbody tr th {\n",
              "        vertical-align: top;\n",
              "    }\n",
              "\n",
              "    .dataframe thead th {\n",
              "        text-align: right;\n",
              "    }\n",
              "</style>\n",
              "<table border=\"1\" class=\"dataframe\">\n",
              "  <thead>\n",
              "    <tr style=\"text-align: right;\">\n",
              "      <th></th>\n",
              "      <th>post_intrusion</th>\n",
              "      <th>post_avoidance</th>\n",
              "      <th>post_hyperarousal</th>\n",
              "      <th>post_ies-r</th>\n",
              "    </tr>\n",
              "  </thead>\n",
              "  <tbody>\n",
              "    <tr>\n",
              "      <th>count</th>\n",
              "      <td>82.000000</td>\n",
              "      <td>82.000000</td>\n",
              "      <td>82.000000</td>\n",
              "      <td>82.000000</td>\n",
              "    </tr>\n",
              "    <tr>\n",
              "      <th>mean</th>\n",
              "      <td>1.285061</td>\n",
              "      <td>1.068598</td>\n",
              "      <td>1.044715</td>\n",
              "      <td>24.829268</td>\n",
              "    </tr>\n",
              "    <tr>\n",
              "      <th>std</th>\n",
              "      <td>0.785987</td>\n",
              "      <td>0.669598</td>\n",
              "      <td>0.807224</td>\n",
              "      <td>15.456674</td>\n",
              "    </tr>\n",
              "    <tr>\n",
              "      <th>min</th>\n",
              "      <td>0.000000</td>\n",
              "      <td>0.000000</td>\n",
              "      <td>0.000000</td>\n",
              "      <td>0.000000</td>\n",
              "    </tr>\n",
              "    <tr>\n",
              "      <th>25%</th>\n",
              "      <td>0.750000</td>\n",
              "      <td>0.625000</td>\n",
              "      <td>0.500000</td>\n",
              "      <td>14.000000</td>\n",
              "    </tr>\n",
              "    <tr>\n",
              "      <th>50%</th>\n",
              "      <td>1.250000</td>\n",
              "      <td>0.875000</td>\n",
              "      <td>0.833333</td>\n",
              "      <td>22.000000</td>\n",
              "    </tr>\n",
              "    <tr>\n",
              "      <th>75%</th>\n",
              "      <td>1.875000</td>\n",
              "      <td>1.500000</td>\n",
              "      <td>1.666667</td>\n",
              "      <td>33.750000</td>\n",
              "    </tr>\n",
              "    <tr>\n",
              "      <th>max</th>\n",
              "      <td>2.875000</td>\n",
              "      <td>2.625000</td>\n",
              "      <td>3.166667</td>\n",
              "      <td>58.000000</td>\n",
              "    </tr>\n",
              "  </tbody>\n",
              "</table>\n",
              "</div>\n",
              "      <button class=\"colab-df-convert\" onclick=\"convertToInteractive('df-0aee685d-28ee-4d0b-9f5d-a2f59aaa554b')\"\n",
              "              title=\"Convert this dataframe to an interactive table.\"\n",
              "              style=\"display:none;\">\n",
              "        \n",
              "  <svg xmlns=\"http://www.w3.org/2000/svg\" height=\"24px\"viewBox=\"0 0 24 24\"\n",
              "       width=\"24px\">\n",
              "    <path d=\"M0 0h24v24H0V0z\" fill=\"none\"/>\n",
              "    <path d=\"M18.56 5.44l.94 2.06.94-2.06 2.06-.94-2.06-.94-.94-2.06-.94 2.06-2.06.94zm-11 1L8.5 8.5l.94-2.06 2.06-.94-2.06-.94L8.5 2.5l-.94 2.06-2.06.94zm10 10l.94 2.06.94-2.06 2.06-.94-2.06-.94-.94-2.06-.94 2.06-2.06.94z\"/><path d=\"M17.41 7.96l-1.37-1.37c-.4-.4-.92-.59-1.43-.59-.52 0-1.04.2-1.43.59L10.3 9.45l-7.72 7.72c-.78.78-.78 2.05 0 2.83L4 21.41c.39.39.9.59 1.41.59.51 0 1.02-.2 1.41-.59l7.78-7.78 2.81-2.81c.8-.78.8-2.07 0-2.86zM5.41 20L4 18.59l7.72-7.72 1.47 1.35L5.41 20z\"/>\n",
              "  </svg>\n",
              "      </button>\n",
              "      \n",
              "  <style>\n",
              "    .colab-df-container {\n",
              "      display:flex;\n",
              "      flex-wrap:wrap;\n",
              "      gap: 12px;\n",
              "    }\n",
              "\n",
              "    .colab-df-convert {\n",
              "      background-color: #E8F0FE;\n",
              "      border: none;\n",
              "      border-radius: 50%;\n",
              "      cursor: pointer;\n",
              "      display: none;\n",
              "      fill: #1967D2;\n",
              "      height: 32px;\n",
              "      padding: 0 0 0 0;\n",
              "      width: 32px;\n",
              "    }\n",
              "\n",
              "    .colab-df-convert:hover {\n",
              "      background-color: #E2EBFA;\n",
              "      box-shadow: 0px 1px 2px rgba(60, 64, 67, 0.3), 0px 1px 3px 1px rgba(60, 64, 67, 0.15);\n",
              "      fill: #174EA6;\n",
              "    }\n",
              "\n",
              "    [theme=dark] .colab-df-convert {\n",
              "      background-color: #3B4455;\n",
              "      fill: #D2E3FC;\n",
              "    }\n",
              "\n",
              "    [theme=dark] .colab-df-convert:hover {\n",
              "      background-color: #434B5C;\n",
              "      box-shadow: 0px 1px 3px 1px rgba(0, 0, 0, 0.15);\n",
              "      filter: drop-shadow(0px 1px 2px rgba(0, 0, 0, 0.3));\n",
              "      fill: #FFFFFF;\n",
              "    }\n",
              "  </style>\n",
              "\n",
              "      <script>\n",
              "        const buttonEl =\n",
              "          document.querySelector('#df-0aee685d-28ee-4d0b-9f5d-a2f59aaa554b button.colab-df-convert');\n",
              "        buttonEl.style.display =\n",
              "          google.colab.kernel.accessAllowed ? 'block' : 'none';\n",
              "\n",
              "        async function convertToInteractive(key) {\n",
              "          const element = document.querySelector('#df-0aee685d-28ee-4d0b-9f5d-a2f59aaa554b');\n",
              "          const dataTable =\n",
              "            await google.colab.kernel.invokeFunction('convertToInteractive',\n",
              "                                                     [key], {});\n",
              "          if (!dataTable) return;\n",
              "\n",
              "          const docLinkHtml = 'Like what you see? Visit the ' +\n",
              "            '<a target=\"_blank\" href=https://colab.research.google.com/notebooks/data_table.ipynb>data table notebook</a>'\n",
              "            + ' to learn more about interactive tables.';\n",
              "          element.innerHTML = '';\n",
              "          dataTable['output_type'] = 'display_data';\n",
              "          await google.colab.output.renderOutput(dataTable, element);\n",
              "          const docLink = document.createElement('div');\n",
              "          docLink.innerHTML = docLinkHtml;\n",
              "          element.appendChild(docLink);\n",
              "        }\n",
              "      </script>\n",
              "    </div>\n",
              "  </div>\n",
              "  "
            ],
            "text/plain": [
              "       post_intrusion  post_avoidance  post_hyperarousal  post_ies-r\n",
              "count       82.000000       82.000000          82.000000   82.000000\n",
              "mean         1.285061        1.068598           1.044715   24.829268\n",
              "std          0.785987        0.669598           0.807224   15.456674\n",
              "min          0.000000        0.000000           0.000000    0.000000\n",
              "25%          0.750000        0.625000           0.500000   14.000000\n",
              "50%          1.250000        0.875000           0.833333   22.000000\n",
              "75%          1.875000        1.500000           1.666667   33.750000\n",
              "max          2.875000        2.625000           3.166667   58.000000"
            ]
          },
          "metadata": {},
          "execution_count": 39
        }
      ]
    },
    {
      "cell_type": "markdown",
      "source": [
        "## **PANAS Score (Pre & Post)**"
      ],
      "metadata": {
        "id": "FURptmoUgCXO"
      }
    },
    {
      "cell_type": "code",
      "source": [
        "pre_pos = df2[['enrollment_id', 'PANAS01', 'PANAS02', 'PANAS04', 'PANAS06', 'PANAS09']]\n",
        "\n",
        "pre_neg = df2[['enrollment_id', 'PANAS03', 'PANAS05', 'PANAS07', 'PANAS08', 'PANAS10']]\n",
        "\n",
        "post_pos = df[['enrollment_id', 'PANAS01', 'PANAS02', 'PANAS04', 'PANAS06', 'PANAS09']]\n",
        "\n",
        "post_neg = df[['enrollment_id', 'PANAS03', 'PANAS05', 'PANAS07', 'PANAS08', 'PANAS10']]\n",
        "\n",
        "# get rid of no answer\n",
        "\n",
        "pre_pos = pre_pos.loc[~(pre_pos[['PANAS01', 'PANAS02', 'PANAS04', 'PANAS06', 'PANAS09']]=='no answer').all(axis=1)]\n",
        "pre_neg = pre_neg.loc[~(pre_neg[['PANAS03', 'PANAS05', 'PANAS07', 'PANAS08', 'PANAS10']]=='no answer').all(axis=1)]\n",
        "post_pos = post_pos.loc[~(post_pos[['PANAS01', 'PANAS02', 'PANAS04', 'PANAS06', 'PANAS09']]=='no answer').all(axis=1)]\n",
        "post_neg = post_neg.loc[~(post_neg[['PANAS03', 'PANAS05', 'PANAS07', 'PANAS08', 'PANAS10']]=='no answer').all(axis=1)]\n"
      ],
      "metadata": {
        "id": "XC2fo9qN-gUX"
      },
      "execution_count": 40,
      "outputs": []
    },
    {
      "cell_type": "code",
      "source": [
        "# turn into integers\n",
        "\n",
        "pre_pos[['PANAS01', 'PANAS02', 'PANAS04', 'PANAS06', 'PANAS09']] = pre_pos[['PANAS01', 'PANAS02', 'PANAS04', 'PANAS06', 'PANAS09']].astype(\"int64\")\n",
        "pre_neg[['PANAS03', 'PANAS05', 'PANAS07', 'PANAS08', 'PANAS10']] = pre_neg[['PANAS03', 'PANAS05', 'PANAS07', 'PANAS08', 'PANAS10']].astype(\"int64\")\n",
        "post_pos[['PANAS01', 'PANAS02', 'PANAS04', 'PANAS06', 'PANAS09']] = post_pos[['PANAS01', 'PANAS02', 'PANAS04', 'PANAS06', 'PANAS09']].astype(\"int64\")\n",
        "post_neg[['PANAS03', 'PANAS05', 'PANAS07', 'PANAS08', 'PANAS10']] = post_neg[['PANAS03', 'PANAS05', 'PANAS07', 'PANAS08', 'PANAS10']].astype(\"int64\")"
      ],
      "metadata": {
        "id": "pJ2zf7JZ_1vH"
      },
      "execution_count": 41,
      "outputs": []
    },
    {
      "cell_type": "code",
      "source": [
        "# sum scores\n",
        "sum_pre_pos = pre_pos[['PANAS01', 'PANAS02', 'PANAS04', 'PANAS06', 'PANAS09']].sum(axis=1)\n",
        "sum_pre_neg = pre_neg[['PANAS03', 'PANAS05', 'PANAS07', 'PANAS08', 'PANAS10']].sum(axis=1)\n",
        "sum_post_pos = post_pos[['PANAS01', 'PANAS02', 'PANAS04', 'PANAS06', 'PANAS09']].sum(axis=1)\n",
        "sum_post_neg = post_neg[['PANAS03', 'PANAS05', 'PANAS07', 'PANAS08', 'PANAS10']].sum(axis=1)"
      ],
      "metadata": {
        "id": "8ObuE1Tq_-k2"
      },
      "execution_count": 42,
      "outputs": []
    },
    {
      "cell_type": "code",
      "source": [
        "# add into dataset\n",
        "pre_pos[\"pre_positive_score\"] = pd.DataFrame(sum_pre_pos)\n",
        "pre_neg[\"pre_negative_score\"] = pd.DataFrame(sum_pre_neg)\n",
        "post_pos[\"post_positive_score\"] = pd.DataFrame(sum_post_pos)\n",
        "post_neg[\"post_negative_score\"] = pd.DataFrame(sum_post_neg)"
      ],
      "metadata": {
        "id": "JfxaQPK6ACv8"
      },
      "execution_count": 43,
      "outputs": []
    },
    {
      "cell_type": "markdown",
      "source": [
        "Descriptive Statistics for PANAS (Pre and Post)"
      ],
      "metadata": {
        "id": "QtBBUT72jY0k"
      }
    },
    {
      "cell_type": "code",
      "source": [
        "pre_pos[\"pre_positive_score\"].describe()"
      ],
      "metadata": {
        "colab": {
          "base_uri": "https://localhost:8080/"
        },
        "id": "px9wkOXSVCFo",
        "outputId": "041ee0c0-929d-41d6-f428-350f363be635"
      },
      "execution_count": 44,
      "outputs": [
        {
          "output_type": "execute_result",
          "data": {
            "text/plain": [
              "count    81.000000\n",
              "mean     13.530864\n",
              "std       3.457190\n",
              "min       6.000000\n",
              "25%      11.000000\n",
              "50%      14.000000\n",
              "75%      16.000000\n",
              "max      21.000000\n",
              "Name: pre_positive_score, dtype: float64"
            ]
          },
          "metadata": {},
          "execution_count": 44
        }
      ]
    },
    {
      "cell_type": "code",
      "source": [
        "pre_neg[\"pre_negative_score\"].describe()"
      ],
      "metadata": {
        "colab": {
          "base_uri": "https://localhost:8080/"
        },
        "id": "7uR3PfRjV0Hi",
        "outputId": "0a35d52d-a2c6-4c9e-d853-bbf96072889c"
      },
      "execution_count": 45,
      "outputs": [
        {
          "output_type": "execute_result",
          "data": {
            "text/plain": [
              "count    81.000000\n",
              "mean     14.864198\n",
              "std       2.853739\n",
              "min       6.000000\n",
              "25%      13.000000\n",
              "50%      14.000000\n",
              "75%      16.000000\n",
              "max      23.000000\n",
              "Name: pre_negative_score, dtype: float64"
            ]
          },
          "metadata": {},
          "execution_count": 45
        }
      ]
    },
    {
      "cell_type": "code",
      "source": [
        "post_pos[\"post_positive_score\"].describe()"
      ],
      "metadata": {
        "colab": {
          "base_uri": "https://localhost:8080/"
        },
        "id": "sDzq5x4RV6EJ",
        "outputId": "4927daad-a4c6-4143-d2aa-a88422baf5bd"
      },
      "execution_count": 46,
      "outputs": [
        {
          "output_type": "execute_result",
          "data": {
            "text/plain": [
              "count    46.000000\n",
              "mean     12.086957\n",
              "std       3.526573\n",
              "min       5.000000\n",
              "25%      10.000000\n",
              "50%      12.000000\n",
              "75%      14.000000\n",
              "max      21.000000\n",
              "Name: post_positive_score, dtype: float64"
            ]
          },
          "metadata": {},
          "execution_count": 46
        }
      ]
    },
    {
      "cell_type": "code",
      "source": [
        "post_neg[\"post_negative_score\"].describe()"
      ],
      "metadata": {
        "colab": {
          "base_uri": "https://localhost:8080/"
        },
        "id": "XG4PZb9SWH8T",
        "outputId": "2499e7ae-db37-472e-da7b-106e3cb539b0"
      },
      "execution_count": 47,
      "outputs": [
        {
          "output_type": "execute_result",
          "data": {
            "text/plain": [
              "count    46.000000\n",
              "mean     15.239130\n",
              "std       3.824975\n",
              "min       5.000000\n",
              "25%      13.000000\n",
              "50%      15.000000\n",
              "75%      17.750000\n",
              "max      24.000000\n",
              "Name: post_negative_score, dtype: float64"
            ]
          },
          "metadata": {},
          "execution_count": 47
        }
      ]
    },
    {
      "cell_type": "markdown",
      "source": [
        "## **FACT-G (Pre & Post)**"
      ],
      "metadata": {
        "id": "DmvwDeoaUEzK"
      }
    },
    {
      "cell_type": "markdown",
      "source": [
        "Pre"
      ],
      "metadata": {
        "id": "zgd4mmDYU8Oq"
      }
    },
    {
      "cell_type": "code",
      "source": [
        "pre_fact = df2[[\"enrollment_id\", \"GP1\", \"GP2\", \"GP3\", \"GP4\", \"GP5\", \"GP6\", \"GP7\", \"GS1\",\t\"GS2\", \"GS3\", \"GS4\", \"GS5\", \"GS6\", \"GS7\", \"GE1\", \"GE2\", \"GE3\", \"GE4\", \"GE5\", \"GE6\", \"GF1\", \"GF2\", \"GF3\", \"GF4\", \"GF5\", \"GF6\", \"GF7\"]]"
      ],
      "metadata": {
        "id": "FyVVRdftUHkg"
      },
      "execution_count": 86,
      "outputs": []
    },
    {
      "cell_type": "code",
      "source": [
        "pre_factcopy = pre_fact.copy()"
      ],
      "metadata": {
        "id": "_RI0K7aLpUKK"
      },
      "execution_count": 49,
      "outputs": []
    },
    {
      "cell_type": "code",
      "source": [
        "pre_factcopy[[\"GP1\", \"GP2\", \"GP3\", \"GP4\", \"GP5\", \"GP6\", \"GP7\", \"GE1\", \"GE3\", \"GE4\", \"GE5\", \"GE6\"]] = pre_factcopy[[\"GP1\", \"GP2\", \"GP3\", \"GP4\", \"GP5\", \"GP6\", \"GP7\", \"GE1\", \"GE3\", \"GE4\", \"GE5\", \"GE6\"]].replace(0, 'A')\n",
        "pre_factcopy[[\"GP1\", \"GP2\", \"GP3\", \"GP4\", \"GP5\", \"GP6\", \"GP7\", \"GE1\", \"GE3\", \"GE4\", \"GE5\", \"GE6\"]] = pre_factcopy[[\"GP1\", \"GP2\", \"GP3\", \"GP4\", \"GP5\", \"GP6\", \"GP7\", \"GE1\", \"GE3\", \"GE4\", \"GE5\", \"GE6\"]].replace(1, 'B')\n",
        "pre_factcopy[[\"GP1\", \"GP2\", \"GP3\", \"GP4\", \"GP5\", \"GP6\", \"GP7\", \"GE1\", \"GE3\", \"GE4\", \"GE5\", \"GE6\"]] = pre_factcopy[[\"GP1\", \"GP2\", \"GP3\", \"GP4\", \"GP5\", \"GP6\", \"GP7\", \"GE1\", \"GE3\", \"GE4\", \"GE5\", \"GE6\"]].replace(3, 1)\n",
        "pre_factcopy[[\"GP1\", \"GP2\", \"GP3\", \"GP4\", \"GP5\", \"GP6\", \"GP7\", \"GE1\", \"GE3\", \"GE4\", \"GE5\", \"GE6\"]] = pre_factcopy[[\"GP1\", \"GP2\", \"GP3\", \"GP4\", \"GP5\", \"GP6\", \"GP7\", \"GE1\", \"GE3\", \"GE4\", \"GE5\", \"GE6\"]].replace(4, 0)"
      ],
      "metadata": {
        "id": "yKsSIcCTqAgX"
      },
      "execution_count": 50,
      "outputs": []
    },
    {
      "cell_type": "code",
      "source": [
        "pre_factcopy[[\"GP1\", \"GP2\", \"GP3\", \"GP4\", \"GP5\", \"GP6\", \"GP7\", \"GE1\", \"GE3\", \"GE4\", \"GE5\", \"GE6\"]] = pre_factcopy[[\"GP1\", \"GP2\", \"GP3\", \"GP4\", \"GP5\", \"GP6\", \"GP7\", \"GE1\", \"GE3\", \"GE4\", \"GE5\", \"GE6\"]].replace('A', 4)\n",
        "pre_factcopy[[\"GP1\", \"GP2\", \"GP3\", \"GP4\", \"GP5\", \"GP6\", \"GP7\", \"GE1\", \"GE3\", \"GE4\", \"GE5\", \"GE6\"]] = pre_factcopy[[\"GP1\", \"GP2\", \"GP3\", \"GP4\", \"GP5\", \"GP6\", \"GP7\", \"GE1\", \"GE3\", \"GE4\", \"GE5\", \"GE6\"]].replace('B', 3)"
      ],
      "metadata": {
        "id": "sqkqoQuWqUyo"
      },
      "execution_count": 51,
      "outputs": []
    },
    {
      "cell_type": "code",
      "source": [
        "pwb = pre_factcopy[[\"GP1\", \"GP2\", \"GP3\", \"GP4\", \"GP5\", \"GP6\", \"GP7\"]]\n",
        "swb = pre_factcopy[[\"GS1\",\t\"GS2\", \"GS3\", \"GS4\", \"GS5\", \"GS6\", \"GS7\"]]\n",
        "ewb = pre_factcopy[[\"GE1\", \"GE2\", \"GE3\", \"GE4\", \"GE5\", \"GE6\"]]\n",
        "fwb = pre_factcopy[[\"GF1\", \"GF2\", \"GF3\", \"GF4\", \"GF5\", \"GF6\", \"GF7\"]]"
      ],
      "metadata": {
        "id": "bclUO9JaaynJ"
      },
      "execution_count": 52,
      "outputs": []
    },
    {
      "cell_type": "code",
      "source": [
        "#scoring = sum of items scores * N of items in subscale / N of items answered\n",
        "pwb_sum = pwb.sum(axis=1)*7/7\n",
        "ewb_sum = ewb.sum(axis=1)*6/6\n",
        "fwb_sum = fwb.sum(axis=1)*7/7"
      ],
      "metadata": {
        "id": "JTTi_gIAq3pN"
      },
      "execution_count": 53,
      "outputs": []
    },
    {
      "cell_type": "code",
      "source": [
        "pre_factcopy[\"pre_pwb\"] = pd.DataFrame(pwb_sum)\n",
        "pre_factcopy[\"pre_ewb\"] = pd.DataFrame(ewb_sum)\n",
        "pre_factcopy[\"pre_fwb\"] = pd.DataFrame(fwb_sum)"
      ],
      "metadata": {
        "id": "bEMwD5_EOk_B"
      },
      "execution_count": 54,
      "outputs": []
    },
    {
      "cell_type": "code",
      "source": [
        "swb['sum'] = swb.sum(axis=1)\n",
        "swb['score'] = np.where(swb['GS7'].isnull(), swb['sum'] / 7 * 6, swb['sum'] / 7 * 7)"
      ],
      "metadata": {
        "colab": {
          "base_uri": "https://localhost:8080/"
        },
        "id": "GItWxYOghHcJ",
        "outputId": "64b5fb19-9d70-4927-8e57-2147d54280e2"
      },
      "execution_count": 55,
      "outputs": [
        {
          "output_type": "stream",
          "name": "stderr",
          "text": [
            "/usr/local/lib/python3.7/dist-packages/ipykernel_launcher.py:1: SettingWithCopyWarning: \n",
            "A value is trying to be set on a copy of a slice from a DataFrame.\n",
            "Try using .loc[row_indexer,col_indexer] = value instead\n",
            "\n",
            "See the caveats in the documentation: https://pandas.pydata.org/pandas-docs/stable/user_guide/indexing.html#returning-a-view-versus-a-copy\n",
            "  \"\"\"Entry point for launching an IPython kernel.\n",
            "/usr/local/lib/python3.7/dist-packages/ipykernel_launcher.py:2: SettingWithCopyWarning: \n",
            "A value is trying to be set on a copy of a slice from a DataFrame.\n",
            "Try using .loc[row_indexer,col_indexer] = value instead\n",
            "\n",
            "See the caveats in the documentation: https://pandas.pydata.org/pandas-docs/stable/user_guide/indexing.html#returning-a-view-versus-a-copy\n",
            "  \n"
          ]
        }
      ]
    },
    {
      "cell_type": "code",
      "source": [
        "pre_swb_sum = swb['score'].tolist()"
      ],
      "metadata": {
        "id": "6j-pkUp-hL2p"
      },
      "execution_count": 56,
      "outputs": []
    },
    {
      "cell_type": "code",
      "source": [
        "pre_factcopy[\"pre_swb\"] = pd.DataFrame(pre_swb_sum)"
      ],
      "metadata": {
        "id": "LyxZulwThYqh"
      },
      "execution_count": 57,
      "outputs": []
    },
    {
      "cell_type": "code",
      "source": [
        "pre_factcopy[[\"pre_pwb\", \"pre_ewb\", \"pre_fwb\", \"pre_swb\"]] = pre_factcopy[[\"pre_pwb\", \"pre_ewb\", \"pre_fwb\", \"pre_swb\"]].astype(\"int64\")"
      ],
      "metadata": {
        "id": "g7V0Y0ggO4u4"
      },
      "execution_count": 58,
      "outputs": []
    },
    {
      "cell_type": "markdown",
      "source": [
        "Post"
      ],
      "metadata": {
        "id": "7IurVQ_SPJX3"
      }
    },
    {
      "cell_type": "code",
      "source": [
        "post_fact = df[[\"enrollment_id\", \"GP1\", \"GP2\", \"GP3\", \"GP4\", \"GP5\", \"GP6\", \"GP7\", \"GS1\",\t\"GS2\", \"GS3\", \"GS4\", \"GS5\", \"GS6\", \"GS7\", \"GE1\", \"GE2\", \"GE3\", \"GE4\", \"GE5\", \"GE6\", \"GF1\", \"GF2\", \"GF3\", \"GF4\", \"GF5\", \"GF6\", \"GF7\"]]"
      ],
      "metadata": {
        "id": "kd5LZRXBPMms"
      },
      "execution_count": 59,
      "outputs": []
    },
    {
      "cell_type": "code",
      "source": [
        "post_factcopy = post_fact.copy()"
      ],
      "metadata": {
        "id": "cb9I9kwnPtQ7"
      },
      "execution_count": 60,
      "outputs": []
    },
    {
      "cell_type": "code",
      "source": [
        "post_factcopy[[\"GP1\", \"GP2\", \"GP3\", \"GP4\", \"GP5\", \"GP6\", \"GP7\", \"GE1\", \"GE3\", \"GE4\", \"GE5\", \"GE6\"]] = post_factcopy[[\"GP1\", \"GP2\", \"GP3\", \"GP4\", \"GP5\", \"GP6\", \"GP7\", \"GE1\", \"GE3\", \"GE4\", \"GE5\", \"GE6\"]].replace(0, 'A')\n",
        "post_factcopy[[\"GP1\", \"GP2\", \"GP3\", \"GP4\", \"GP5\", \"GP6\", \"GP7\", \"GE1\", \"GE3\", \"GE4\", \"GE5\", \"GE6\"]] = post_factcopy[[\"GP1\", \"GP2\", \"GP3\", \"GP4\", \"GP5\", \"GP6\", \"GP7\", \"GE1\", \"GE3\", \"GE4\", \"GE5\", \"GE6\"]].replace(1, 'B')\n",
        "post_factcopy[[\"GP1\", \"GP2\", \"GP3\", \"GP4\", \"GP5\", \"GP6\", \"GP7\", \"GE1\", \"GE3\", \"GE4\", \"GE5\", \"GE6\"]] = post_factcopy[[\"GP1\", \"GP2\", \"GP3\", \"GP4\", \"GP5\", \"GP6\", \"GP7\", \"GE1\", \"GE3\", \"GE4\", \"GE5\", \"GE6\"]].replace(3, 1)\n",
        "post_factcopy[[\"GP1\", \"GP2\", \"GP3\", \"GP4\", \"GP5\", \"GP6\", \"GP7\", \"GE1\", \"GE3\", \"GE4\", \"GE5\", \"GE6\"]] = post_factcopy[[\"GP1\", \"GP2\", \"GP3\", \"GP4\", \"GP5\", \"GP6\", \"GP7\", \"GE1\", \"GE3\", \"GE4\", \"GE5\", \"GE6\"]].replace(4, 0)"
      ],
      "metadata": {
        "id": "tvjxwNLwP1qS"
      },
      "execution_count": 61,
      "outputs": []
    },
    {
      "cell_type": "code",
      "source": [
        "post_factcopy[[\"GP1\", \"GP2\", \"GP3\", \"GP4\", \"GP5\", \"GP6\", \"GP7\", \"GE1\", \"GE3\", \"GE4\", \"GE5\", \"GE6\"]] = post_factcopy[[\"GP1\", \"GP2\", \"GP3\", \"GP4\", \"GP5\", \"GP6\", \"GP7\", \"GE1\", \"GE3\", \"GE4\", \"GE5\", \"GE6\"]].replace('A', 4)\n",
        "post_factcopy[[\"GP1\", \"GP2\", \"GP3\", \"GP4\", \"GP5\", \"GP6\", \"GP7\", \"GE1\", \"GE3\", \"GE4\", \"GE5\", \"GE6\"]] = post_factcopy[[\"GP1\", \"GP2\", \"GP3\", \"GP4\", \"GP5\", \"GP6\", \"GP7\", \"GE1\", \"GE3\", \"GE4\", \"GE5\", \"GE6\"]].replace('B', 3)"
      ],
      "metadata": {
        "id": "oCwHOv0YP8Az"
      },
      "execution_count": 62,
      "outputs": []
    },
    {
      "cell_type": "code",
      "source": [
        "pwb1 = post_factcopy[[\"GP1\", \"GP2\", \"GP3\", \"GP4\", \"GP5\", \"GP6\", \"GP7\"]]\n",
        "swb1 = post_factcopy[[\"GS1\",\t\"GS2\", \"GS3\", \"GS4\", \"GS5\", \"GS6\", \"GS7\"]]\n",
        "ewb1 = post_factcopy[[\"GE1\", \"GE2\", \"GE3\", \"GE4\", \"GE5\", \"GE6\"]]\n",
        "fwb1 = post_factcopy[[\"GF1\", \"GF2\", \"GF3\", \"GF4\", \"GF5\", \"GF6\", \"GF7\"]]"
      ],
      "metadata": {
        "id": "0ZsSNEZlQhwp"
      },
      "execution_count": 63,
      "outputs": []
    },
    {
      "cell_type": "code",
      "source": [
        "#scoring = sum of items scores * N of items in subscale / N of items answered\n",
        "pwb_sum = pwb1.sum(axis=1)*7/7\n",
        "ewb_sum = ewb1.sum(axis=1)*6/6\n",
        "fwb_sum = fwb1.sum(axis=1)*7/7"
      ],
      "metadata": {
        "id": "wEG1QjVAQo5w"
      },
      "execution_count": 64,
      "outputs": []
    },
    {
      "cell_type": "code",
      "source": [
        "post_factcopy[\"post_pwb\"] = pd.DataFrame(pwb_sum)\n",
        "post_factcopy[\"post_ewb\"] = pd.DataFrame(ewb_sum)\n",
        "post_factcopy[\"post_fwb\"] = pd.DataFrame(fwb_sum)"
      ],
      "metadata": {
        "id": "e3YrjEzQQtYt"
      },
      "execution_count": 65,
      "outputs": []
    },
    {
      "cell_type": "code",
      "source": [
        "swb1['sum'] = swb1.sum(axis=1)\n",
        "swb1['score'] = np.where(swb1['GS7'].isnull(), swb1['sum'] / 7 * 6, swb1['sum'] / 7 * 7)"
      ],
      "metadata": {
        "colab": {
          "base_uri": "https://localhost:8080/"
        },
        "id": "gravNSD0gCMd",
        "outputId": "51250a21-ffcc-42fc-a224-9a7787b0436e"
      },
      "execution_count": 66,
      "outputs": [
        {
          "output_type": "stream",
          "name": "stderr",
          "text": [
            "/usr/local/lib/python3.7/dist-packages/ipykernel_launcher.py:1: SettingWithCopyWarning: \n",
            "A value is trying to be set on a copy of a slice from a DataFrame.\n",
            "Try using .loc[row_indexer,col_indexer] = value instead\n",
            "\n",
            "See the caveats in the documentation: https://pandas.pydata.org/pandas-docs/stable/user_guide/indexing.html#returning-a-view-versus-a-copy\n",
            "  \"\"\"Entry point for launching an IPython kernel.\n",
            "/usr/local/lib/python3.7/dist-packages/ipykernel_launcher.py:2: SettingWithCopyWarning: \n",
            "A value is trying to be set on a copy of a slice from a DataFrame.\n",
            "Try using .loc[row_indexer,col_indexer] = value instead\n",
            "\n",
            "See the caveats in the documentation: https://pandas.pydata.org/pandas-docs/stable/user_guide/indexing.html#returning-a-view-versus-a-copy\n",
            "  \n"
          ]
        }
      ]
    },
    {
      "cell_type": "code",
      "source": [
        "post_swb_sum = swb1['score'].tolist()"
      ],
      "metadata": {
        "id": "9VHkvcmejp2L"
      },
      "execution_count": 67,
      "outputs": []
    },
    {
      "cell_type": "code",
      "source": [
        "post_factcopy[\"post_swb\"] = pd.DataFrame(post_swb_sum)"
      ],
      "metadata": {
        "id": "32uZQUTdjsry"
      },
      "execution_count": 68,
      "outputs": []
    },
    {
      "cell_type": "code",
      "source": [
        "post_factcopy[[\"post_pwb\", \"post_ewb\", \"post_fwb\", \"post_swb\"]] = post_factcopy[[\"post_pwb\", \"post_ewb\", \"post_fwb\", \"post_swb\"]].astype(\"int64\")"
      ],
      "metadata": {
        "id": "YaejnQz-Qyv0"
      },
      "execution_count": 69,
      "outputs": []
    },
    {
      "cell_type": "markdown",
      "source": [
        "## **HADS (Post only)**"
      ],
      "metadata": {
        "id": "NJKDNsfjugic"
      }
    },
    {
      "cell_type": "code",
      "source": [
        "hads = df[[\"enrollment_id\", \"F01\", \"F02\", \"F03\", \"F04\", \"F05\",\"F06\", \"F07\",\"F08\",\"F09\",\"F10\",\"F11\",\"F12\",\"F13\",\"F14\"]]"
      ],
      "metadata": {
        "id": "fEED5BTKcW0n"
      },
      "execution_count": 70,
      "outputs": []
    },
    {
      "cell_type": "code",
      "source": [
        "hads[[\"F01\", \"F03\", \"F05\", \"F08\", \"F09\", \"F10\", \"F11\", \"F13\", \"F14\"]] = hads[[\"F01\", \"F03\", \"F05\", \"F08\", \"F09\", \"F10\", \"F11\", \"F13\", \"F14\"]].replace(0, 'A')\n",
        "hads[[\"F01\", \"F03\", \"F05\", \"F08\", \"F09\", \"F10\", \"F11\", \"F13\", \"F14\"]] = hads[[\"F01\", \"F03\", \"F05\", \"F08\", \"F09\", \"F10\", \"F11\", \"F13\", \"F14\"]].replace(1, 'B')\n",
        "hads[[\"F01\", \"F03\", \"F05\", \"F08\", \"F09\", \"F10\", \"F11\", \"F13\", \"F14\"]] = hads[[\"F01\", \"F03\", \"F05\", \"F08\", \"F09\", \"F10\", \"F11\", \"F13\", \"F14\"]].replace(2, 1)\n",
        "hads[[\"F01\", \"F03\", \"F05\", \"F08\", \"F09\", \"F10\", \"F11\", \"F13\", \"F14\"]] = hads[[\"F01\", \"F03\", \"F05\", \"F08\", \"F09\", \"F10\", \"F11\", \"F13\", \"F14\"]].replace(3, 0)"
      ],
      "metadata": {
        "id": "p9dz6crlqHCe",
        "colab": {
          "base_uri": "https://localhost:8080/"
        },
        "outputId": "307f7f80-71c8-4226-c296-72f73580c296"
      },
      "execution_count": 71,
      "outputs": [
        {
          "output_type": "stream",
          "name": "stderr",
          "text": [
            "/usr/local/lib/python3.7/dist-packages/pandas/core/frame.py:3641: SettingWithCopyWarning: \n",
            "A value is trying to be set on a copy of a slice from a DataFrame.\n",
            "Try using .loc[row_indexer,col_indexer] = value instead\n",
            "\n",
            "See the caveats in the documentation: https://pandas.pydata.org/pandas-docs/stable/user_guide/indexing.html#returning-a-view-versus-a-copy\n",
            "  self[k1] = value[k2]\n"
          ]
        }
      ]
    },
    {
      "cell_type": "code",
      "source": [
        "hads[[\"F01\", \"F03\", \"F05\", \"F08\", \"F09\", \"F10\", \"F11\", \"F13\", \"F14\"]] = hads[[\"F01\", \"F03\", \"F05\", \"F08\", \"F09\", \"F10\", \"F11\", \"F13\", \"F14\"]].replace('A', 3)\n",
        "hads[[\"F01\", \"F03\", \"F05\", \"F08\", \"F09\", \"F10\", \"F11\", \"F13\", \"F14\"]] = hads[[\"F01\", \"F03\", \"F05\", \"F08\", \"F09\", \"F10\", \"F11\", \"F13\", \"F14\"]].replace('B', 2)"
      ],
      "metadata": {
        "id": "pLdt3iNMtHVd",
        "colab": {
          "base_uri": "https://localhost:8080/"
        },
        "outputId": "8db3d2ff-c7c1-4f8a-b6f7-521fd19de047"
      },
      "execution_count": 72,
      "outputs": [
        {
          "output_type": "stream",
          "name": "stderr",
          "text": [
            "/usr/local/lib/python3.7/dist-packages/pandas/core/frame.py:3641: SettingWithCopyWarning: \n",
            "A value is trying to be set on a copy of a slice from a DataFrame.\n",
            "Try using .loc[row_indexer,col_indexer] = value instead\n",
            "\n",
            "See the caveats in the documentation: https://pandas.pydata.org/pandas-docs/stable/user_guide/indexing.html#returning-a-view-versus-a-copy\n",
            "  self[k1] = value[k2]\n"
          ]
        }
      ]
    },
    {
      "cell_type": "code",
      "source": [
        "anxiety_score = hads[[\"F01\", \"F03\", \"F05\", \"F07\",\"F09\",\"F11\",\"F13\"]].sum(axis=1)\n",
        "depression_score = hads[[\"F02\", \"F04\", \"F06\", \"F08\",\"F10\",\"F12\",\"F14\"]].sum(axis=1)"
      ],
      "metadata": {
        "id": "tDTkLsKxtTN8"
      },
      "execution_count": 73,
      "outputs": []
    },
    {
      "cell_type": "code",
      "source": [
        "hads['anxiety_score'] = pd.DataFrame(anxiety_score)\n",
        "hads['depression_score'] = pd.DataFrame(depression_score)"
      ],
      "metadata": {
        "id": "1GsVsX7xu3pf",
        "colab": {
          "base_uri": "https://localhost:8080/"
        },
        "outputId": "9616cea8-9437-4288-b186-05f8bf4e33ea"
      },
      "execution_count": 74,
      "outputs": [
        {
          "output_type": "stream",
          "name": "stderr",
          "text": [
            "/usr/local/lib/python3.7/dist-packages/ipykernel_launcher.py:1: SettingWithCopyWarning: \n",
            "A value is trying to be set on a copy of a slice from a DataFrame.\n",
            "Try using .loc[row_indexer,col_indexer] = value instead\n",
            "\n",
            "See the caveats in the documentation: https://pandas.pydata.org/pandas-docs/stable/user_guide/indexing.html#returning-a-view-versus-a-copy\n",
            "  \"\"\"Entry point for launching an IPython kernel.\n",
            "/usr/local/lib/python3.7/dist-packages/ipykernel_launcher.py:2: SettingWithCopyWarning: \n",
            "A value is trying to be set on a copy of a slice from a DataFrame.\n",
            "Try using .loc[row_indexer,col_indexer] = value instead\n",
            "\n",
            "See the caveats in the documentation: https://pandas.pydata.org/pandas-docs/stable/user_guide/indexing.html#returning-a-view-versus-a-copy\n",
            "  \n"
          ]
        }
      ]
    },
    {
      "cell_type": "code",
      "source": [
        "hads_group1 = hads[\"anxiety_score\"].tolist()\n",
        "\n",
        "anxiety_scoring = []\n",
        "\n",
        "for i in hads_group1 :\n",
        "\n",
        "  if i <= 7:\n",
        "    anxiety_scoring.append(\"Normal\")\n",
        "  elif 8 <= i <= 10:\n",
        "    anxiety_scoring.append(\"Borderline abnormal\")\n",
        "  elif 11 <= i <= 21:\n",
        "    anxiety_scoring.append(\"Abnormal\")\n",
        "  else :\n",
        "    i = i\n",
        "\n",
        "hads[\"anxiety_scoring\"] = anxiety_scoring"
      ],
      "metadata": {
        "id": "hWPkaW6GvmKa",
        "colab": {
          "base_uri": "https://localhost:8080/"
        },
        "outputId": "a1d30c01-a188-4da5-ea9e-7b5ad0489927"
      },
      "execution_count": 75,
      "outputs": [
        {
          "output_type": "stream",
          "name": "stderr",
          "text": [
            "/usr/local/lib/python3.7/dist-packages/ipykernel_launcher.py:16: SettingWithCopyWarning: \n",
            "A value is trying to be set on a copy of a slice from a DataFrame.\n",
            "Try using .loc[row_indexer,col_indexer] = value instead\n",
            "\n",
            "See the caveats in the documentation: https://pandas.pydata.org/pandas-docs/stable/user_guide/indexing.html#returning-a-view-versus-a-copy\n",
            "  app.launch_new_instance()\n"
          ]
        }
      ]
    },
    {
      "cell_type": "code",
      "source": [
        "hads_group2 = hads[\"depression_score\"].tolist()\n",
        "\n",
        "depression_scoring = []\n",
        "\n",
        "for i in hads_group2 :\n",
        "\n",
        "  if i <= 7:\n",
        "    depression_scoring.append(\"Normal\")\n",
        "  elif 8 <= i <= 10:\n",
        "    depression_scoring.append(\"Borderline abnormal\")\n",
        "  elif 11 <= i <= 21:\n",
        "    depression_scoring.append(\"Abnormal\")\n",
        "  else :\n",
        "    i = i\n",
        "\n",
        "hads[\"depression_scoring\"] = depression_scoring"
      ],
      "metadata": {
        "id": "x-BW6kh-wyWn",
        "colab": {
          "base_uri": "https://localhost:8080/"
        },
        "outputId": "93c951ff-8400-48c5-fa48-904785578538"
      },
      "execution_count": 76,
      "outputs": [
        {
          "output_type": "stream",
          "name": "stderr",
          "text": [
            "/usr/local/lib/python3.7/dist-packages/ipykernel_launcher.py:16: SettingWithCopyWarning: \n",
            "A value is trying to be set on a copy of a slice from a DataFrame.\n",
            "Try using .loc[row_indexer,col_indexer] = value instead\n",
            "\n",
            "See the caveats in the documentation: https://pandas.pydata.org/pandas-docs/stable/user_guide/indexing.html#returning-a-view-versus-a-copy\n",
            "  app.launch_new_instance()\n"
          ]
        }
      ]
    },
    {
      "cell_type": "markdown",
      "source": [
        "# Merging Scores back to original dataset"
      ],
      "metadata": {
        "id": "1z895fKggItN"
      }
    },
    {
      "cell_type": "markdown",
      "source": [
        "#### **Merging pre survey scores**"
      ],
      "metadata": {
        "id": "nPzTciiqQinV"
      }
    },
    {
      "cell_type": "code",
      "source": [
        "prescore = pre_ies.merge(pre_pos, on='enrollment_id', how='outer')"
      ],
      "metadata": {
        "id": "R1y4ouKjY2jX"
      },
      "execution_count": 77,
      "outputs": []
    },
    {
      "cell_type": "code",
      "source": [
        "prescore = prescore.merge(pre_neg, on='enrollment_id', how='outer')\n",
        "prescore = prescore.merge(pre_factcopy, on='enrollment_id', how='outer')"
      ],
      "metadata": {
        "id": "QqRy4QNQJ52a"
      },
      "execution_count": 78,
      "outputs": []
    },
    {
      "cell_type": "markdown",
      "source": [
        "#### **Merging post survey scores**"
      ],
      "metadata": {
        "id": "Q_IovBIFRqj-"
      }
    },
    {
      "cell_type": "code",
      "source": [
        "postscore = tfi.merge(post_ies, on='enrollment_id', how='outer')\n",
        "postscore = postscore.merge(post_pos, on='enrollment_id', how='outer')\n",
        "postscore = postscore.merge(post_neg, on='enrollment_id', how='outer')\n",
        "postscore = postscore.merge(post_factcopy, on='enrollment_id', how='outer')\n",
        "postscore = postscore.merge(hads, on='enrollment_id', how='outer')"
      ],
      "metadata": {
        "id": "w0p_nSmpXS5O"
      },
      "execution_count": 79,
      "outputs": []
    },
    {
      "cell_type": "markdown",
      "source": [
        "#### **Scores Merged to Original Survey Dataset**"
      ],
      "metadata": {
        "id": "645k4McORnmm"
      }
    },
    {
      "cell_type": "code",
      "source": [
        "master = master.merge(prescore, on='enrollment_id', how='outer')\n",
        "master = master.merge(postscore, on='enrollment_id', how='outer')"
      ],
      "metadata": {
        "id": "rm0nn4GBSwGA",
        "colab": {
          "base_uri": "https://localhost:8080/"
        },
        "outputId": "b11fe295-ccff-462a-e986-ae6d4ceff69c"
      },
      "execution_count": 80,
      "outputs": [
        {
          "output_type": "stream",
          "name": "stderr",
          "text": [
            "/usr/local/lib/python3.7/dist-packages/pandas/core/frame.py:9203: FutureWarning: Passing 'suffixes' which cause duplicate columns {'GP2_x', 'GE5_x', 'GF3_x', 'GS5_x', 'IES_v_x', 'GF5_x', 'GF6_x', 'GP5_x', 'IES_o_x', 'GS2_x', 'PANAS05_x', 'IES_k_x', 'IES_m_x', 'GP3_x', 'IES_g_x', 'IES_s_x', 'IES_p_x', 'IES_u_x', 'GS3_x', 'IES_a_x', 'IES_e_x', 'IES_n_x', 'GF1_x', 'IES_j_x', 'PANAS06_x', 'PANAS07_x', 'GP6_x', 'PANAS04_x', 'IES_b_x', 'GS7_x', 'GE1_x', 'GE3_x', 'IES_h_x', 'GE2_x', 'GF7_x', 'GP7_x', 'GE6_x', 'GP1_x', 'PANAS03_x', 'PANAS10_x', 'PANAS08_x', 'IES_q_x', 'IES_i_x', 'IES_f_x', 'GS1_x', 'IES_d_x', 'IES_c_x', 'IES_l_x', 'GS6_x', 'GE4_x', 'GS4_x', 'PANAS09_x', 'PANAS02_x', 'GF2_x', 'IES_t_x', 'GP4_x', 'IES_r_x', 'PANAS01_x', 'GF4_x'} in the result is deprecated and will raise a MergeError in a future version.\n",
            "  validate=validate,\n"
          ]
        }
      ]
    },
    {
      "cell_type": "markdown",
      "source": [
        "IES Pre and Post Survey Difference"
      ],
      "metadata": {
        "id": "qBiZTPbnrhOU"
      }
    },
    {
      "cell_type": "code",
      "source": [
        "ies_pre = []\n",
        "ies_post = []\n",
        "pre_ies_r = list(master['pre_ies-r'])\n",
        "post_ies_r = list(master['post_ies-r'])\n",
        "\n",
        "ies_r = zip(pre_ies_r, post_ies_r)\n",
        "for pre_ies_r, post_ies_r in ies_r:\n",
        "  if math.isnan(pre_ies_r) == False and math.isnan(post_ies_r) == False:\n",
        "    ies_pre.append(pre_ies_r)\n",
        "    ies_post.append(post_ies_r)"
      ],
      "metadata": {
        "id": "JwdpvUPcrjq7"
      },
      "execution_count": 81,
      "outputs": []
    },
    {
      "cell_type": "code",
      "source": [
        "bins = np.linspace(0, 80, 9)\n",
        "\n",
        "pyplot.hist(ies_pre, bins, alpha=0.5, color = 'skyblue', label='ies pre')\n",
        "pyplot.hist(ies_post, bins, alpha=0.5, color = 'yellow', label='ies post')\n",
        "pyplot.legend(loc='upper right')\n",
        "plt.title('Histogram of pre and post IES scores (n=80)')\n",
        "pyplot.show()"
      ],
      "metadata": {
        "colab": {
          "base_uri": "https://localhost:8080/",
          "height": 281
        },
        "id": "c3PhtO7OYLI2",
        "outputId": "009b4186-449e-44ad-f455-8d27b3e9911f"
      },
      "execution_count": 84,
      "outputs": [
        {
          "output_type": "display_data",
          "data": {
            "image/png": "[encoded data removed]",
            "text/plain": [
              "<Figure size 432x288 with 1 Axes>"
            ]
          },
          "metadata": {
            "needs_background": "light"
          }
        }
      ]
    },
    {
      "cell_type": "markdown",
      "source": [
        "Long Format (Pre and Post)"
      ],
      "metadata": {
        "id": "vfDni8vurcnL"
      }
    },
    {
      "cell_type": "code",
      "source": [
        "df_melted = pd.melt(master, id_vars=['enrollment_id'], value_vars=['pre_ies-r', 'pre_ies_group', 'post_ies-r', 'post_ies_group'], var_name= 'ies').sort_values('enrollment_id')"
      ],
      "metadata": {
        "id": "L3iRlMSRftIK"
      },
      "execution_count": 85,
      "outputs": []
    }
  ]
}